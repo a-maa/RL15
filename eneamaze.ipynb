{
 "cells": [
  {
   "cell_type": "markdown",
   "metadata": {},
   "source": [
    "## Setting up the Imports\n",
    "\n",
    "- numpy will be handy for mathematical functions.\n",
    "- matplotlib will be used for the visualisation of the maze. "
   ]
  },
  {
   "cell_type": "code",
   "execution_count": 26,
   "metadata": {},
   "outputs": [],
   "source": [
    "import numpy as np\n",
    "import matplotlib.pyplot as plt\n",
    "import plotly as pn\n",
    "from matplotlib.animation import FuncAnimation\n",
    "from IPython.display import HTML\n"
   ]
  },
  {
   "cell_type": "markdown",
   "metadata": {},
   "source": [
    "## Setting up the Maze\n",
    "\n",
    "- Using matplotplib we use arrays filled with zeros (open space) and ones (walls) to build the maze structure. \n",
    "- In here, we also define the positions of the starting area, the end goal, and the sub goal. "
   ]
  },
  {
   "cell_type": "code",
   "execution_count": 27,
   "metadata": {},
   "outputs": [
    {
     "data": {
      "image/png": "[encoded data removed]",
      "text/plain": [
       "<Figure size 500x500 with 1 Axes>"
      ]
     },
     "metadata": {},
     "output_type": "display_data"
    }
   ],
   "source": [
    "# Initialising the maze\n",
    "class Maze:\n",
    "    def __init__(self, maze, start_position, goal_position, sub_goal_position):\n",
    "        self.maze = maze\n",
    "        \n",
    "        self.maze_width = maze_struc.shape[1]           # rows of maze, also knows as x-azis. \n",
    "        self.maze_height = maze_struc.shape[0]          # columns of maze, also known as y-axis.\n",
    "\n",
    "        self.start_position = start_position            # start position - S.\n",
    "        self.goal_position = goal_position              # end goal position - E.\n",
    "        self.sub_goal_position = sub_goal_position      # sub goal position - G.\n",
    "\n",
    "    def show_maze(self):\n",
    "        plt.figure(figsize=(5,5))\n",
    "\n",
    "        plt.imshow(self.maze, cmap='Pastel1')\n",
    "\n",
    "        # Placements for the start, end, and sub goal positions.\n",
    "        plt.text(self.start_position[0], self.start_position[1], 'S', ha='center', va='center', color='green', fontsize=15)\n",
    "        plt.text(self.goal_position[0], self.goal_position[1], 'E', ha='center', va='center', color='red', fontsize=15)\n",
    "        plt.text(self.sub_goal_position[0], self.sub_goal_position[1], 'G', ha='center', va='center', color='blue', fontsize=15)\n",
    "\n",
    "        # Add grid lines between every wall/space.\n",
    "        plt.grid(color='black', linestyle='-', linewidth=0.5)\n",
    "        plt.xticks(np.arange(0.5, self.maze.shape[1], 1))\n",
    "        plt.yticks(np.arange(0.5, self.maze.shape[0], 1))\n",
    "        plt.gca().set_xticks(np.arange(-0.5, self.maze.shape[1], 1), minor=True)\n",
    "        plt.gca().set_yticks(np.arange(-0.5, self.maze.shape[0], 1), minor=True)\n",
    "        plt.gca().grid(which='minor', color='grey', linestyle='-', linewidth=0.5)\n",
    "        plt.gca().tick_params(which='both', length=0)\n",
    "\n",
    "        plt.xlim(-0.45, self.maze.shape[1] - 0.5)\n",
    "        plt.ylim(self.maze.shape[0] - 0.6, -0.4)\n",
    "\n",
    "        # Hide the digits and labels from the plot visualistion. \n",
    "        plt.xticks([]), plt.yticks([])\n",
    "\n",
    "        # Ensures the plot will visualise when running the code.\n",
    "        plt.show()\n",
    "\n",
    "\n",
    "# The layout of the 10x10 maze:\n",
    "# 1 = wall.\n",
    "# 0 = open area.\n",
    "# (If wanted, we can later make another file where we can generate larger mazes like 100x100).\n",
    "maze_struc = np.array([\n",
    "    [1, 1, 1, 1, 1, 1, 1, 1, 1, 1],\n",
    "    [1, 0, 1, 0, 0, 0, 1, 0, 0, 1],\n",
    "    [1, 0, 1, 0, 1, 0, 1, 0, 1, 1],\n",
    "    [1, 0, 0, 0, 1, 0, 0, 0, 0, 1],\n",
    "    [1, 1, 1, 0, 1, 1, 1, 1, 0, 1],\n",
    "    [1, 0, 1, 0, 0, 0, 0, 1, 0, 1],\n",
    "    [1, 0, 0, 0, 1, 1, 0, 0, 0, 1],\n",
    "    [1, 1, 1, 0, 1, 0, 1, 1, 0, 1],\n",
    "    [1, 0, 0, 0, 0, 0, 1, 0, 0, 1],\n",
    "    [1, 1, 1, 1, 1, 1, 1, 1, 1, 1]\n",
    "])\n",
    "\n",
    "# Places the start, end, and sub goal at the correct coordinates (rows, columns).\n",
    "maze = Maze(maze_struc, (1, 1), (7, 8), (3,5))\n",
    "\n",
    "# Actually visualises the plot with matplotlib.\n",
    "maze.show_maze()"
   ]
  },
  {
   "cell_type": "markdown",
   "metadata": {},
   "source": [
    "## Setting up the Agent\n",
    "\n",
    "This is where the logic of the agent come in:\n",
    "- The agent can move in four directions. These are up, down, left, and right. \n",
    "- The q learning formula and logic will be applied to it. The parameters the agent will go off are:\n",
    "    - the learning rate → decides how much new information overrides over information.\n",
    "    - the discount factor → decides if the agent will prefer better rewards later on, or smaller awards right away\n",
    "    - exploration rate → exploration vs. exploitation. This code works with a decay, over time it will proper exploitation over exploration in the maze.\n",
    "\n",
    "- The agent is based on this formula of Q-Learning:\n",
    "\n",
    "$$ Q(s, a) ← Q(s, a) + α [r + γ max(a') Q(s', a') - Q(s, a)] $$"
   ]
  },
  {
   "cell_type": "code",
   "execution_count": 28,
   "metadata": {},
   "outputs": [],
   "source": [
    "# Actions the agent can take.\n",
    "moves = [\n",
    "   (-1, 0),         # Moving one step up.\n",
    "   (1, 0),          # Moving one step down.\n",
    "   (0, -1),         # Moving one step left.\n",
    "   (0, 1)           # Moving one step right.\n",
    "]\n",
    "\n",
    "# Initialise the Q-Learning agent \n",
    "class QLearningAgent:\n",
    "    def __init__(self, maze, learning_rate=0.9, discount_factor=0.5, exploration_start=0.1, exploration_end=0.01, num_episodes=100):\n",
    "        \n",
    "        # The table gets updated as new information is stored. 4 stands for the actions the agent can take. \n",
    "        self.q_table = np.zeros((maze.maze_height, maze.maze_width, 4)) \n",
    "         \n",
    "        self.learning_rate = learning_rate          \n",
    "        self.discount_factor = discount_factor      \n",
    "        self.exploration_start = exploration_start  \n",
    "        self.exploration_end = exploration_end\n",
    "        self.num_episodes = num_episodes\n",
    "\n",
    "    # Calculates the rate of exploration to exploitation over time -> start with a lot of exploration and eventually prefer exploitation.\n",
    "    def get_exploration_rate(self, current_episode):\n",
    "        exploration_rate = self.exploration_start * (self.exploration_end / self.exploration_start) ** (current_episode / self.num_episodes)\n",
    "        return exploration_rate\n",
    "    \n",
    "    # Chooses what movement action to make. \n",
    "    def get_action(self, state, current_episode):\n",
    "        exploration_rate = self.get_exploration_rate(current_episode)\n",
    "\n",
    "        # Select an action for the given state either randomly (exploration) or using the Q-table (exploitation).\n",
    "        if np.random.rand() < exploration_rate:\n",
    "            return np.random.randint(4) \n",
    "        else:\n",
    "            #Chooses the action with the highest Q-value for the given state.\n",
    "            return np.argmax(self.q_table[state]) \n",
    "        \n",
    "    # Updates the Q-values in the Q-table based on its actions and states.\n",
    "    def update_q_table(self, state, action, next_state, reward):\n",
    "        best_next_action = np.argmax(self.q_table[next_state])\n",
    "\n",
    "        current_q_value = self.q_table[state][action]\n",
    "\n",
    "        # Formula to update the Q-value based on the theory of the Q-Learning algorithm.\n",
    "        new_q_value = current_q_value + self.learning_rate * (reward + self.discount_factor * self.q_table[next_state][best_next_action] - current_q_value)\n",
    "\n",
    "        # Apply new Q-value for current action and state. \n",
    "        self.q_table[state][action] = new_q_value\n"
   ]
  },
  {
   "cell_type": "markdown",
   "metadata": {},
   "source": [
    "## Setting up Agent in Maze\n",
    "\n",
    "This cell will show the behaviour of the agent in a single episode and before it is trained with the Q-Learning algorithm.\n",
    "\n",
    "- It DOES define the logic on the agent inside of the maze. In other words, giving the agent rewards and penalities for hitting walls and reaching the goal, respectively.\n",
    "- So, it keeps track of the total reward.\n",
    "- It also tracks the total steps the agent took.\n",
    "- It also updates the Q-values as necessary.\n",
    "\n",
    "Below, we first initialise the rewards or penalties the agent will receive based on its behaviour. Change as needed."
   ]
  },
  {
   "cell_type": "code",
   "execution_count": 29,
   "metadata": {},
   "outputs": [],
   "source": [
    "# Rewards.\n",
    "goal_reward = 100\n",
    "sub_goal_reward = 50\n",
    "\n",
    "# Penalities.\n",
    "wall_penalty = -10\n",
    "step_penalty = -1"
   ]
  },
  {
   "cell_type": "code",
   "execution_count": 30,
   "metadata": {},
   "outputs": [],
   "source": [
    "def qlearning_logic(agent, maze, current_episode, train=True):\n",
    "\n",
    "    current_state = maze.start_position     # Agent starts at start position.\n",
    "    path = [current_state]                  # Tracks the agent's current position.\n",
    "\n",
    "    goal_reached = False                    # Tracks if the agent reached the goal.\n",
    "    sub_reached = False                     # Tracks if the agent reached the sub goal.\n",
    "\n",
    "    episode_reward = 0                      # Tracks the agent's total reward at the end of the episode.\n",
    "    episode_step = 0                        # Tracks the agent's total steps at the end of the episode.\n",
    "    \n",
    "    while not goal_reached:\n",
    "\n",
    "        # Decide the agent's next action based on the Q-Table.\n",
    "        action = agent.get_action(current_state, current_episode)\n",
    "        next_state = (current_state[0] + moves[action][0], current_state[1] + moves[action][1])\n",
    "\n",
    "        # Give a penalty if a wall is hit.\n",
    "        if (next_state[0] < 0 or next_state[0] >= maze.maze_height or \n",
    "            next_state[1] < 0 or next_state[1] >= maze.maze_width or \n",
    "            maze.maze[next_state[1]][next_state[0]] == 1):\n",
    "            reward = wall_penalty\n",
    "            next_state = current_state\n",
    "\n",
    "        # Give a single-time reward if the sub-goal is reached.\n",
    "        elif next_state == maze.sub_goal_position and not sub_reached:\n",
    "            path.append(current_state)\n",
    "            reward = sub_goal_reward\n",
    "            sub_reached = True\n",
    "\n",
    "        # Mark that the agent has reached the end and give a reward.\n",
    "        elif next_state == maze.goal_position:\n",
    "            path.append(current_state)\n",
    "            reward = goal_reward\n",
    "            goal_reached = True\n",
    "\n",
    "        # Give a penalty every time the agent takes a step without reaching the final goal position.\n",
    "        else:\n",
    "            path.append(current_state)\n",
    "            reward = step_penalty\n",
    "\n",
    "        # Track the total steps and reward.\n",
    "        episode_reward += reward\n",
    "        episode_step += 1\n",
    "\n",
    "        # Update Q-table if training is set to True.\n",
    "        if train:\n",
    "            agent.update_q_table(current_state, action, next_state, reward)\n",
    "\n",
    "        # Update the agent's current position.\n",
    "        current_state = next_state\n",
    "\n",
    "    # Return total reward, steps, path, and whether the sub-goal was reached.\n",
    "    return episode_reward, episode_step, path, sub_reached\n"
   ]
  },
  {
   "cell_type": "markdown",
   "metadata": {},
   "source": [
    "## Visualising the Agent Test\n",
    "\n",
    "- This version shows how the agent behaves in a single episode without any training whatsoever. "
   ]
  },
  {
   "cell_type": "code",
   "execution_count": 31,
   "metadata": {},
   "outputs": [],
   "source": [
    "# A helper function to visualise the maze.\n",
    "def visualize_maze(maze, path, sub_goal_reached):\n",
    "    plt.figure(figsize=(5, 5))\n",
    "    plt.imshow(maze.maze, cmap='Pastel1')\n",
    "    \n",
    "    plt.text(maze.start_position[0], maze.start_position[1], 'S', ha='center', va='center', color='green', fontsize=15)\n",
    "    plt.text(maze.goal_position[0], maze.goal_position[1], 'E', ha='center', va='center', color='red', fontsize=15)\n",
    "    plt.text(maze.sub_goal_position[0], maze.sub_goal_position[1], 'G', ha='center', va='center', color='blue', fontsize=15)\n",
    "\n",
    "    plt.grid(color='black', linestyle='-', linewidth=0.5)\n",
    "    plt.xticks(np.arange(0.5, maze.maze.shape[1], 1))\n",
    "    plt.yticks(np.arange(0.5, maze.maze.shape[0], 1))\n",
    "    plt.gca().set_xticks(np.arange(-0.5, maze.maze.shape[1], 1), minor=True)\n",
    "    plt.gca().set_yticks(np.arange(-0.5, maze.maze.shape[0], 1), minor=True)\n",
    "    plt.gca().grid(which='minor', color='grey', linestyle='-', linewidth=0.5)\n",
    "    plt.gca().tick_params(which='both', length=0)\n",
    "\n",
    "    plt.xlim(-0.45, maze.maze.shape[1] - 0.5)\n",
    "    plt.ylim(maze.maze.shape[0] - 0.6, -0.4)\n",
    "\n",
    "    # Additionally show the path the agent took.\n",
    "    for position in path:\n",
    "        plt.text(position[0], position[1], \"●\", va='center', color='white', fontsize=8)\n",
    "\n",
    "    plt.xticks([]), plt.yticks([])\n",
    "    plt.show(block=True)\n"
   ]
  },
  {
   "cell_type": "code",
   "execution_count": null,
   "metadata": {},
   "outputs": [],
   "source": [
    "# Shows a single episode of the agent (untrained).\n",
    "def test_agent(agent, maze, num_episodes=1):\n",
    "    episode_reward, episode_step, path, sub_reached = qlearning_logic(agent, maze, num_episodes, train=False)\n",
    "\n",
    "    # Shows the path it took, total steps and total reward.\n",
    "    print(\"Final Path:\")\n",
    "    for row, col in path:\n",
    "        print(f\"({row}, {col})-> \", end='')\n",
    "    print(\"End Reached.\")\n",
    "\n",
    "    print(\"Total steps:\", episode_step)\n",
    "    print(\"Total reward:\", episode_reward)\n",
    "\n",
    "    # Visualize the maze with the agent's path.\n",
    "    visualize_maze(maze, path, sub_reached)\n",
    "\n",
    "    return episode_step, episode_reward\n",
    "\n",
    "agent = QLearningAgent(maze)\n",
    "test_agent(agent, maze)"
   ]
  },
  {
   "cell_type": "markdown",
   "metadata": {},
   "source": [
    "### Heat Map\n",
    "\n",
    "- Heat Map of untrained Agent through 5 episodes"
   ]
  },
  {
   "cell_type": "code",
   "execution_count": 22,
   "metadata": {},
   "outputs": [
    {
     "data": {
      "image/png": "[encoded data removed]",
      "text/plain": [
       "<Figure size 500x500 with 2 Axes>"
      ]
     },
     "metadata": {},
     "output_type": "display_data"
    }
   ],
   "source": [
    "# Function to test the agent and generate a heat map of the visited tiles\n",
    "def test_agent_with_heatmap(agent, maze, num_episodes=1):\n",
    "    visit_count = np.zeros((maze.maze_height, maze.maze_width))\n",
    "\n",
    "    for episode in range(num_episodes):\n",
    "        _, _, path, _ = qlearning_logic(agent, maze, episode, train=False)\n",
    "        for position in path:\n",
    "            visit_count[position[1], position[0]] += 1  # Increment visit count for each position\n",
    "\n",
    "    # Plot the heat map\n",
    "    plt.figure(figsize=(5, 5))\n",
    "    plt.imshow(visit_count, cmap='hot', interpolation='nearest')\n",
    "    plt.colorbar(label='Visit Count')\n",
    "    plt.title('Heat Map of Tiles Visited by Agent')\n",
    "    plt.show()\n",
    "\n",
    "# Test the agent and generate the heat map\n",
    "test_agent_with_heatmap(agent, maze, num_episodes=5)"
   ]
  },
  {
   "cell_type": "markdown",
   "metadata": {},
   "source": [
    "## Training the Agent in the Maze\n",
    "\n",
    "- We are now going to train the agent. By saving it's previous attempts and learning from the information it learned, it should improve its behaviour over time over the course of its assigned number of episodes."
   ]
  },
  {
   "cell_type": "code",
   "execution_count": 23,
   "metadata": {},
   "outputs": [],
   "source": [
    "from plotly.subplots import make_subplots\n",
    "import plotly.graph_objects as go\n",
    "\n",
    "def train_agent(agent, maze, num_episodes=100):\n",
    "    \n",
    "    # Store the data for the rewards and the steps (for plotting purposes).\n",
    "    episode_rewards = []\n",
    "    episode_steps = []\n",
    "    success_count = 0  # To count the number of successful episodes\n",
    "\n",
    "    # Create a visit count matrix to store how many times the agent visited each tile.\n",
    "    visit_count = np.zeros((maze.maze_height, maze.maze_width))\n",
    "\n",
    "    # Loop over the number of episodes.\n",
    "    for episode in range(num_episodes):\n",
    "        episode_reward, episode_step, path, sub_reached = qlearning_logic(agent, maze, episode, train=True)\n",
    "        \n",
    "        # Check if the agent reached the goal\n",
    "        if path[-1] == maze.goal_position:\n",
    "            success_count += 1\n",
    "\n",
    "        # Loop over the path the agent took and increment the visit count for each tile.\n",
    "        for position in path:\n",
    "            visit_count[position[1], position[0]] += 1  # Increment visit count for each position\n",
    "\n",
    "        # Add the rewards and steps to their respective lists.\n",
    "        episode_rewards.append(episode_reward)\n",
    "        episode_steps.append(episode_step)\n",
    "\n",
    "    # Calculate the moving average of rewards and steps to smooth out the data\n",
    "    window_size = 10\n",
    "    moving_avg_rewards = np.convolve(episode_rewards, np.ones(window_size)/window_size, mode='valid')\n",
    "    moving_avg_steps = np.convolve(episode_steps, np.ones(window_size)/window_size, mode='valid')\n",
    "\n",
    "    # Calculate success rate\n",
    "    success_rate = (success_count / num_episodes) * 100\n",
    "\n",
    "    # Calculate variance in rewards and steps\n",
    "    reward_variance = np.var(episode_rewards)\n",
    "    steps_variance = np.var(episode_steps)\n",
    "\n",
    "    # Create subplots\n",
    "    fig = make_subplots(rows=1, cols=2, subplot_titles=('Reward per Episode', 'Steps per Episode'))\n",
    "\n",
    "    # Add reward plot\n",
    "    fig.add_trace(go.Scatter(x=list(range(num_episodes)), y=episode_rewards, mode='lines', name='Rewards'), row=1, col=1)\n",
    "    fig.add_trace(go.Scatter(x=list(range(window_size-1, num_episodes)), y=moving_avg_rewards, mode='lines', name='Moving Avg Rewards'), row=1, col=1)\n",
    "    fig.update_xaxes(title_text='Episode', row=1, col=1)\n",
    "    fig.update_yaxes(title_text='Cumulative Reward', row=1, col=1)\n",
    "\n",
    "    # Add steps plot\n",
    "    fig.add_trace(go.Scatter(x=list(range(num_episodes)), y=episode_steps, mode='lines', name='Steps'), row=1, col=2)\n",
    "    fig.add_trace(go.Scatter(x=list(range(window_size-1, num_episodes)), y=moving_avg_steps, mode='lines', name='Moving Avg Steps'), row=1, col=2)\n",
    "    fig.update_xaxes(title_text='Episode', row=1, col=2)\n",
    "    fig.update_yaxes(title_text='Steps Taken', row=1, col=2)\n",
    "\n",
    "    # Plot the heat map\n",
    "    plt.figure(figsize=(5, 5))\n",
    "    plt.imshow(visit_count, cmap='hot', interpolation='nearest')\n",
    "    plt.colorbar(label='Visit Count')\n",
    "    plt.title('Heat Map of Tiles Visited by Agent')\n",
    "    plt.show()\n",
    "\n",
    "    # Print the final reward and steps after training finished.\n",
    "    final_reward = episode_rewards[-1]\n",
    "    final_steps = episode_steps[-1]\n",
    "\n",
    "    print(f\"The final reward after training is: {final_reward}\")\n",
    "    print(f\"The final steps after training are: {final_steps}\")\n",
    "    print(f\"Success rate: {success_rate}%\")\n",
    "    print(f\"Reward variance: {reward_variance}\")\n",
    "    print(f\"Steps variance: {steps_variance}\")\n",
    "\n",
    "    # Show the plot\n",
    "    fig.show()\n"
   ]
  },
  {
   "cell_type": "code",
   "execution_count": 24,
   "metadata": {},
   "outputs": [
    {
     "data": {
      "image/png": "[encoded data removed]",
      "text/plain": [
       "<Figure size 500x500 with 2 Axes>"
      ]
     },
     "metadata": {},
     "output_type": "display_data"
    },
    {
     "name": "stdout",
     "output_type": "stream",
     "text": [
      "The final reward after training is: 137\n",
      "The final steps after training are: 15\n",
      "Success rate: 0.0%\n",
      "Reward variance: 1642819.4404\n",
      "Steps variance: 75225.47439999998\n"
     ]
    },
    {
     "data": {
      "application/vnd.plotly.v1+json": {
       "config": {
        "plotlyServerURL": "https://plot.ly"
       },
       "data": [
        {
         "mode": "lines",
         "name": "Rewards",
         "type": "scatter",
         "x": [
          0,
          1,
          2,
          3,
          4,
          5,
          6,
          7,
          8,
          9,
          10,
          11,
          12,
          13,
          14,
          15,
          16,
          17,
          18,
          19,
          20,
          21,
          22,
          23,
          24,
          25,
          26,
          27,
          28,
          29,
          30,
          31,
          32,
          33,
          34,
          35,
          36,
          37,
          38,
          39,
          40,
          41,
          42,
          43,
          44,
          45,
          46,
          47,
          48,
          49,
          50,
          51,
          52,
          53,
          54,
          55,
          56,
          57,
          58,
          59,
          60,
          61,
          62,
          63,
          64,
          65,
          66,
          67,
          68,
          69,
          70,
          71,
          72,
          73,
          74,
          75,
          76,
          77,
          78,
          79,
          80,
          81,
          82,
          83,
          84,
          85,
          86,
          87,
          88,
          89,
          90,
          91,
          92,
          93,
          94,
          95,
          96,
          97,
          98,
          99
         ],
         "xaxis": "x",
         "y": [
          -7939,
          -475,
          -5817,
          -1361,
          -7179,
          -3269,
          -623,
          -1931,
          -655,
          -1311,
          -481,
          -109,
          -917,
          -761,
          -791,
          -535,
          -37,
          101,
          -329,
          -433,
          -47,
          -849,
          -16,
          -44,
          113,
          113,
          97,
          55,
          67,
          81,
          115,
          93,
          123,
          123,
          -381,
          -103,
          -257,
          -25,
          67,
          107,
          119,
          -87,
          -37,
          75,
          117,
          -75,
          133,
          137,
          115,
          71,
          97,
          -73,
          125,
          137,
          117,
          135,
          137,
          127,
          137,
          127,
          137,
          135,
          135,
          137,
          127,
          137,
          137,
          137,
          115,
          127,
          137,
          137,
          137,
          137,
          125,
          127,
          127,
          127,
          127,
          137,
          137,
          137,
          137,
          137,
          137,
          137,
          137,
          137,
          137,
          137,
          137,
          137,
          137,
          137,
          137,
          127,
          137,
          137,
          137,
          137
         ],
         "yaxis": "y"
        },
        {
         "mode": "lines",
         "name": "Moving Avg Rewards",
         "type": "scatter",
         "x": [
          9,
          10,
          11,
          12,
          13,
          14,
          15,
          16,
          17,
          18,
          19,
          20,
          21,
          22,
          23,
          24,
          25,
          26,
          27,
          28,
          29,
          30,
          31,
          32,
          33,
          34,
          35,
          36,
          37,
          38,
          39,
          40,
          41,
          42,
          43,
          44,
          45,
          46,
          47,
          48,
          49,
          50,
          51,
          52,
          53,
          54,
          55,
          56,
          57,
          58,
          59,
          60,
          61,
          62,
          63,
          64,
          65,
          66,
          67,
          68,
          69,
          70,
          71,
          72,
          73,
          74,
          75,
          76,
          77,
          78,
          79,
          80,
          81,
          82,
          83,
          84,
          85,
          86,
          87,
          88,
          89,
          90,
          91,
          92,
          93,
          94,
          95,
          96,
          97,
          98,
          99
         ],
         "xaxis": "x",
         "y": [
          -3056.0000000000005,
          -2310.2000000000003,
          -2273.6000000000004,
          -1783.6000000000001,
          -1723.6000000000001,
          -1084.8000000000002,
          -811.4000000000001,
          -752.8000000000002,
          -549.6,
          -517,
          -429.2,
          -385.79999999999995,
          -459.79999999999995,
          -369.70000000000005,
          -298,
          -207.6,
          -142.79999999999998,
          -129.39999999999998,
          -134,
          -94.4,
          -43.00000000000001,
          -26.800000000000004,
          67.4,
          81.30000000000001,
          98,
          48.6,
          26.99999999999999,
          -8.400000000000016,
          -16.400000000000002,
          -16.400000000000006,
          -13.799999999999999,
          -13.399999999999997,
          -31.4,
          -47.40000000000001,
          -52.20000000000001,
          -2.4000000000000004,
          0.3999999999999968,
          39.400000000000006,
          55.60000000000001,
          60.400000000000006,
          56.800000000000004,
          54.6,
          56,
          72.2,
          78.4,
          78.4,
          99.4,
          99.80000000000001,
          98.80000000000001,
          101.00000000000001,
          106.60000000000001,
          110.60000000000001,
          131.40000000000003,
          132.40000000000003,
          132.4,
          133.4,
          133.6,
          133.60000000000002,
          134.6,
          132.40000000000003,
          132.4,
          132.4,
          132.60000000000002,
          132.8,
          132.8,
          132.60000000000002,
          131.60000000000002,
          130.60000000000002,
          129.60000000000002,
          130.8,
          131.8,
          131.8,
          131.8,
          131.8,
          131.8,
          133,
          134,
          135,
          136,
          137,
          137,
          137,
          137,
          137,
          137,
          137,
          136,
          136,
          136,
          136,
          136
         ],
         "yaxis": "y"
        },
        {
         "mode": "lines",
         "name": "Steps",
         "type": "scatter",
         "x": [
          0,
          1,
          2,
          3,
          4,
          5,
          6,
          7,
          8,
          9,
          10,
          11,
          12,
          13,
          14,
          15,
          16,
          17,
          18,
          19,
          20,
          21,
          22,
          23,
          24,
          25,
          26,
          27,
          28,
          29,
          30,
          31,
          32,
          33,
          34,
          35,
          36,
          37,
          38,
          39,
          40,
          41,
          42,
          43,
          44,
          45,
          46,
          47,
          48,
          49,
          50,
          51,
          52,
          53,
          54,
          55,
          56,
          57,
          58,
          59,
          60,
          61,
          62,
          63,
          64,
          65,
          66,
          67,
          68,
          69,
          70,
          71,
          72,
          73,
          74,
          75,
          76,
          77,
          78,
          79,
          80,
          81,
          82,
          83,
          84,
          85,
          86,
          87,
          88,
          89,
          90,
          91,
          92,
          93,
          94,
          95,
          96,
          97,
          98,
          99
         ],
         "xaxis": "x2",
         "y": [
          1476,
          114,
          1163,
          334,
          1760,
          847,
          199,
          589,
          249,
          410,
          210,
          81,
          367,
          301,
          349,
          228,
          63,
          24,
          166,
          225,
          91,
          389,
          54,
          55,
          21,
          39,
          37,
          43,
          40,
          35,
          28,
          41,
          20,
          20,
          299,
          147,
          256,
          114,
          49,
          27,
          33,
          149,
          99,
          50,
          17,
          146,
          19,
          15,
          19,
          72,
          37,
          153,
          18,
          15,
          17,
          17,
          15,
          16,
          15,
          16,
          15,
          17,
          17,
          15,
          16,
          15,
          15,
          15,
          19,
          16,
          15,
          15,
          15,
          15,
          18,
          16,
          16,
          16,
          16,
          15,
          15,
          15,
          15,
          15,
          15,
          15,
          15,
          15,
          15,
          15,
          15,
          15,
          15,
          15,
          15,
          16,
          15,
          15,
          15,
          15
         ],
         "yaxis": "y2"
        },
        {
         "mode": "lines",
         "name": "Moving Avg Steps",
         "type": "scatter",
         "x": [
          9,
          10,
          11,
          12,
          13,
          14,
          15,
          16,
          17,
          18,
          19,
          20,
          21,
          22,
          23,
          24,
          25,
          26,
          27,
          28,
          29,
          30,
          31,
          32,
          33,
          34,
          35,
          36,
          37,
          38,
          39,
          40,
          41,
          42,
          43,
          44,
          45,
          46,
          47,
          48,
          49,
          50,
          51,
          52,
          53,
          54,
          55,
          56,
          57,
          58,
          59,
          60,
          61,
          62,
          63,
          64,
          65,
          66,
          67,
          68,
          69,
          70,
          71,
          72,
          73,
          74,
          75,
          76,
          77,
          78,
          79,
          80,
          81,
          82,
          83,
          84,
          85,
          86,
          87,
          88,
          89,
          90,
          91,
          92,
          93,
          94,
          95,
          96,
          97,
          98,
          99
         ],
         "xaxis": "x2",
         "y": [
          714.0999999999999,
          587.5,
          584.2,
          504.59999999999997,
          501.3,
          360.2,
          298.3,
          284.70000000000005,
          228.20000000000002,
          219.90000000000003,
          201.40000000000003,
          189.50000000000003,
          220.3,
          189,
          164.4,
          131.6,
          112.70000000000002,
          110.10000000000001,
          112.00000000000001,
          99.4,
          80.4,
          74.10000000000001,
          39.3,
          35.9,
          32.400000000000006,
          60.2,
          71,
          92.9,
          100.00000000000001,
          100.90000000000002,
          100.10000000000002,
          100.60000000000002,
          111.40000000000003,
          119.30000000000003,
          122.30000000000003,
          94.10000000000001,
          94,
          70.30000000000001,
          60.400000000000006,
          57.4,
          61.900000000000006,
          62.300000000000004,
          62.7,
          54.599999999999994,
          51.099999999999994,
          51.099999999999994,
          38.2,
          37.80000000000001,
          37.900000000000006,
          37.50000000000001,
          31.900000000000002,
          29.700000000000003,
          16.099999999999998,
          16,
          16,
          15.9,
          15.699999999999998,
          15.700000000000001,
          15.6,
          16,
          16,
          16,
          15.8,
          15.6,
          15.6,
          15.8,
          15.9,
          16,
          16.1,
          15.799999999999999,
          15.7,
          15.7,
          15.7,
          15.7,
          15.7,
          15.4,
          15.3,
          15.2,
          15.1,
          15,
          15,
          15,
          15,
          15,
          15,
          15,
          15.1,
          15.1,
          15.1,
          15.1,
          15.1
         ],
         "yaxis": "y2"
        }
       ],
       "layout": {
        "annotations": [
         {
          "font": {
           "size": 16
          },
          "showarrow": false,
          "text": "Reward per Episode",
          "x": 0.225,
          "xanchor": "center",
          "xref": "paper",
          "y": 1,
          "yanchor": "bottom",
          "yref": "paper"
         },
         {
          "font": {
           "size": 16
          },
          "showarrow": false,
          "text": "Steps per Episode",
          "x": 0.775,
          "xanchor": "center",
          "xref": "paper",
          "y": 1,
          "yanchor": "bottom",
          "yref": "paper"
         }
        ],
        "template": {
         "data": {
          "bar": [
           {
            "error_x": {
             "color": "#2a3f5f"
            },
            "error_y": {
             "color": "#2a3f5f"
            },
            "marker": {
             "line": {
              "color": "#E5ECF6",
              "width": 0.5
             },
             "pattern": {
              "fillmode": "overlay",
              "size": 10,
              "solidity": 0.2
             }
            },
            "type": "bar"
           }
          ],
          "barpolar": [
           {
            "marker": {
             "line": {
              "color": "#E5ECF6",
              "width": 0.5
             },
             "pattern": {
              "fillmode": "overlay",
              "size": 10,
              "solidity": 0.2
             }
            },
            "type": "barpolar"
           }
          ],
          "carpet": [
           {
            "aaxis": {
             "endlinecolor": "#2a3f5f",
             "gridcolor": "white",
             "linecolor": "white",
             "minorgridcolor": "white",
             "startlinecolor": "#2a3f5f"
            },
            "baxis": {
             "endlinecolor": "#2a3f5f",
             "gridcolor": "white",
             "linecolor": "white",
             "minorgridcolor": "white",
             "startlinecolor": "#2a3f5f"
            },
            "type": "carpet"
           }
          ],
          "choropleth": [
           {
            "colorbar": {
             "outlinewidth": 0,
             "ticks": ""
            },
            "type": "choropleth"
           }
          ],
          "contour": [
           {
            "colorbar": {
             "outlinewidth": 0,
             "ticks": ""
            },
            "colorscale": [
             [
              0,
              "#0d0887"
             ],
             [
              0.1111111111111111,
              "#46039f"
             ],
             [
              0.2222222222222222,
              "#7201a8"
             ],
             [
              0.3333333333333333,
              "#9c179e"
             ],
             [
              0.4444444444444444,
              "#bd3786"
             ],
             [
              0.5555555555555556,
              "#d8576b"
             ],
             [
              0.6666666666666666,
              "#ed7953"
             ],
             [
              0.7777777777777778,
              "#fb9f3a"
             ],
             [
              0.8888888888888888,
              "#fdca26"
             ],
             [
              1,
              "#f0f921"
             ]
            ],
            "type": "contour"
           }
          ],
          "contourcarpet": [
           {
            "colorbar": {
             "outlinewidth": 0,
             "ticks": ""
            },
            "type": "contourcarpet"
           }
          ],
          "heatmap": [
           {
            "colorbar": {
             "outlinewidth": 0,
             "ticks": ""
            },
            "colorscale": [
             [
              0,
              "#0d0887"
             ],
             [
              0.1111111111111111,
              "#46039f"
             ],
             [
              0.2222222222222222,
              "#7201a8"
             ],
             [
              0.3333333333333333,
              "#9c179e"
             ],
             [
              0.4444444444444444,
              "#bd3786"
             ],
             [
              0.5555555555555556,
              "#d8576b"
             ],
             [
              0.6666666666666666,
              "#ed7953"
             ],
             [
              0.7777777777777778,
              "#fb9f3a"
             ],
             [
              0.8888888888888888,
              "#fdca26"
             ],
             [
              1,
              "#f0f921"
             ]
            ],
            "type": "heatmap"
           }
          ],
          "heatmapgl": [
           {
            "colorbar": {
             "outlinewidth": 0,
             "ticks": ""
            },
            "colorscale": [
             [
              0,
              "#0d0887"
             ],
             [
              0.1111111111111111,
              "#46039f"
             ],
             [
              0.2222222222222222,
              "#7201a8"
             ],
             [
              0.3333333333333333,
              "#9c179e"
             ],
             [
              0.4444444444444444,
              "#bd3786"
             ],
             [
              0.5555555555555556,
              "#d8576b"
             ],
             [
              0.6666666666666666,
              "#ed7953"
             ],
             [
              0.7777777777777778,
              "#fb9f3a"
             ],
             [
              0.8888888888888888,
              "#fdca26"
             ],
             [
              1,
              "#f0f921"
             ]
            ],
            "type": "heatmapgl"
           }
          ],
          "histogram": [
           {
            "marker": {
             "pattern": {
              "fillmode": "overlay",
              "size": 10,
              "solidity": 0.2
             }
            },
            "type": "histogram"
           }
          ],
          "histogram2d": [
           {
            "colorbar": {
             "outlinewidth": 0,
             "ticks": ""
            },
            "colorscale": [
             [
              0,
              "#0d0887"
             ],
             [
              0.1111111111111111,
              "#46039f"
             ],
             [
              0.2222222222222222,
              "#7201a8"
             ],
             [
              0.3333333333333333,
              "#9c179e"
             ],
             [
              0.4444444444444444,
              "#bd3786"
             ],
             [
              0.5555555555555556,
              "#d8576b"
             ],
             [
              0.6666666666666666,
              "#ed7953"
             ],
             [
              0.7777777777777778,
              "#fb9f3a"
             ],
             [
              0.8888888888888888,
              "#fdca26"
             ],
             [
              1,
              "#f0f921"
             ]
            ],
            "type": "histogram2d"
           }
          ],
          "histogram2dcontour": [
           {
            "colorbar": {
             "outlinewidth": 0,
             "ticks": ""
            },
            "colorscale": [
             [
              0,
              "#0d0887"
             ],
             [
              0.1111111111111111,
              "#46039f"
             ],
             [
              0.2222222222222222,
              "#7201a8"
             ],
             [
              0.3333333333333333,
              "#9c179e"
             ],
             [
              0.4444444444444444,
              "#bd3786"
             ],
             [
              0.5555555555555556,
              "#d8576b"
             ],
             [
              0.6666666666666666,
              "#ed7953"
             ],
             [
              0.7777777777777778,
              "#fb9f3a"
             ],
             [
              0.8888888888888888,
              "#fdca26"
             ],
             [
              1,
              "#f0f921"
             ]
            ],
            "type": "histogram2dcontour"
           }
          ],
          "mesh3d": [
           {
            "colorbar": {
             "outlinewidth": 0,
             "ticks": ""
            },
            "type": "mesh3d"
           }
          ],
          "parcoords": [
           {
            "line": {
             "colorbar": {
              "outlinewidth": 0,
              "ticks": ""
             }
            },
            "type": "parcoords"
           }
          ],
          "pie": [
           {
            "automargin": true,
            "type": "pie"
           }
          ],
          "scatter": [
           {
            "fillpattern": {
             "fillmode": "overlay",
             "size": 10,
             "solidity": 0.2
            },
            "type": "scatter"
           }
          ],
          "scatter3d": [
           {
            "line": {
             "colorbar": {
              "outlinewidth": 0,
              "ticks": ""
             }
            },
            "marker": {
             "colorbar": {
              "outlinewidth": 0,
              "ticks": ""
             }
            },
            "type": "scatter3d"
           }
          ],
          "scattercarpet": [
           {
            "marker": {
             "colorbar": {
              "outlinewidth": 0,
              "ticks": ""
             }
            },
            "type": "scattercarpet"
           }
          ],
          "scattergeo": [
           {
            "marker": {
             "colorbar": {
              "outlinewidth": 0,
              "ticks": ""
             }
            },
            "type": "scattergeo"
           }
          ],
          "scattergl": [
           {
            "marker": {
             "colorbar": {
              "outlinewidth": 0,
              "ticks": ""
             }
            },
            "type": "scattergl"
           }
          ],
          "scattermapbox": [
           {
            "marker": {
             "colorbar": {
              "outlinewidth": 0,
              "ticks": ""
             }
            },
            "type": "scattermapbox"
           }
          ],
          "scatterpolar": [
           {
            "marker": {
             "colorbar": {
              "outlinewidth": 0,
              "ticks": ""
             }
            },
            "type": "scatterpolar"
           }
          ],
          "scatterpolargl": [
           {
            "marker": {
             "colorbar": {
              "outlinewidth": 0,
              "ticks": ""
             }
            },
            "type": "scatterpolargl"
           }
          ],
          "scatterternary": [
           {
            "marker": {
             "colorbar": {
              "outlinewidth": 0,
              "ticks": ""
             }
            },
            "type": "scatterternary"
           }
          ],
          "surface": [
           {
            "colorbar": {
             "outlinewidth": 0,
             "ticks": ""
            },
            "colorscale": [
             [
              0,
              "#0d0887"
             ],
             [
              0.1111111111111111,
              "#46039f"
             ],
             [
              0.2222222222222222,
              "#7201a8"
             ],
             [
              0.3333333333333333,
              "#9c179e"
             ],
             [
              0.4444444444444444,
              "#bd3786"
             ],
             [
              0.5555555555555556,
              "#d8576b"
             ],
             [
              0.6666666666666666,
              "#ed7953"
             ],
             [
              0.7777777777777778,
              "#fb9f3a"
             ],
             [
              0.8888888888888888,
              "#fdca26"
             ],
             [
              1,
              "#f0f921"
             ]
            ],
            "type": "surface"
           }
          ],
          "table": [
           {
            "cells": {
             "fill": {
              "color": "#EBF0F8"
             },
             "line": {
              "color": "white"
             }
            },
            "header": {
             "fill": {
              "color": "#C8D4E3"
             },
             "line": {
              "color": "white"
             }
            },
            "type": "table"
           }
          ]
         },
         "layout": {
          "annotationdefaults": {
           "arrowcolor": "#2a3f5f",
           "arrowhead": 0,
           "arrowwidth": 1
          },
          "autotypenumbers": "strict",
          "coloraxis": {
           "colorbar": {
            "outlinewidth": 0,
            "ticks": ""
           }
          },
          "colorscale": {
           "diverging": [
            [
             0,
             "#8e0152"
            ],
            [
             0.1,
             "#c51b7d"
            ],
            [
             0.2,
             "#de77ae"
            ],
            [
             0.3,
             "#f1b6da"
            ],
            [
             0.4,
             "#fde0ef"
            ],
            [
             0.5,
             "#f7f7f7"
            ],
            [
             0.6,
             "#e6f5d0"
            ],
            [
             0.7,
             "#b8e186"
            ],
            [
             0.8,
             "#7fbc41"
            ],
            [
             0.9,
             "#4d9221"
            ],
            [
             1,
             "#276419"
            ]
           ],
           "sequential": [
            [
             0,
             "#0d0887"
            ],
            [
             0.1111111111111111,
             "#46039f"
            ],
            [
             0.2222222222222222,
             "#7201a8"
            ],
            [
             0.3333333333333333,
             "#9c179e"
            ],
            [
             0.4444444444444444,
             "#bd3786"
            ],
            [
             0.5555555555555556,
             "#d8576b"
            ],
            [
             0.6666666666666666,
             "#ed7953"
            ],
            [
             0.7777777777777778,
             "#fb9f3a"
            ],
            [
             0.8888888888888888,
             "#fdca26"
            ],
            [
             1,
             "#f0f921"
            ]
           ],
           "sequentialminus": [
            [
             0,
             "#0d0887"
            ],
            [
             0.1111111111111111,
             "#46039f"
            ],
            [
             0.2222222222222222,
             "#7201a8"
            ],
            [
             0.3333333333333333,
             "#9c179e"
            ],
            [
             0.4444444444444444,
             "#bd3786"
            ],
            [
             0.5555555555555556,
             "#d8576b"
            ],
            [
             0.6666666666666666,
             "#ed7953"
            ],
            [
             0.7777777777777778,
             "#fb9f3a"
            ],
            [
             0.8888888888888888,
             "#fdca26"
            ],
            [
             1,
             "#f0f921"
            ]
           ]
          },
          "colorway": [
           "#636efa",
           "#EF553B",
           "#00cc96",
           "#ab63fa",
           "#FFA15A",
           "#19d3f3",
           "#FF6692",
           "#B6E880",
           "#FF97FF",
           "#FECB52"
          ],
          "font": {
           "color": "#2a3f5f"
          },
          "geo": {
           "bgcolor": "white",
           "lakecolor": "white",
           "landcolor": "#E5ECF6",
           "showlakes": true,
           "showland": true,
           "subunitcolor": "white"
          },
          "hoverlabel": {
           "align": "left"
          },
          "hovermode": "closest",
          "mapbox": {
           "style": "light"
          },
          "paper_bgcolor": "white",
          "plot_bgcolor": "#E5ECF6",
          "polar": {
           "angularaxis": {
            "gridcolor": "white",
            "linecolor": "white",
            "ticks": ""
           },
           "bgcolor": "#E5ECF6",
           "radialaxis": {
            "gridcolor": "white",
            "linecolor": "white",
            "ticks": ""
           }
          },
          "scene": {
           "xaxis": {
            "backgroundcolor": "#E5ECF6",
            "gridcolor": "white",
            "gridwidth": 2,
            "linecolor": "white",
            "showbackground": true,
            "ticks": "",
            "zerolinecolor": "white"
           },
           "yaxis": {
            "backgroundcolor": "#E5ECF6",
            "gridcolor": "white",
            "gridwidth": 2,
            "linecolor": "white",
            "showbackground": true,
            "ticks": "",
            "zerolinecolor": "white"
           },
           "zaxis": {
            "backgroundcolor": "#E5ECF6",
            "gridcolor": "white",
            "gridwidth": 2,
            "linecolor": "white",
            "showbackground": true,
            "ticks": "",
            "zerolinecolor": "white"
           }
          },
          "shapedefaults": {
           "line": {
            "color": "#2a3f5f"
           }
          },
          "ternary": {
           "aaxis": {
            "gridcolor": "white",
            "linecolor": "white",
            "ticks": ""
           },
           "baxis": {
            "gridcolor": "white",
            "linecolor": "white",
            "ticks": ""
           },
           "bgcolor": "#E5ECF6",
           "caxis": {
            "gridcolor": "white",
            "linecolor": "white",
            "ticks": ""
           }
          },
          "title": {
           "x": 0.05
          },
          "xaxis": {
           "automargin": true,
           "gridcolor": "white",
           "linecolor": "white",
           "ticks": "",
           "title": {
            "standoff": 15
           },
           "zerolinecolor": "white",
           "zerolinewidth": 2
          },
          "yaxis": {
           "automargin": true,
           "gridcolor": "white",
           "linecolor": "white",
           "ticks": "",
           "title": {
            "standoff": 15
           },
           "zerolinecolor": "white",
           "zerolinewidth": 2
          }
         }
        },
        "xaxis": {
         "anchor": "y",
         "domain": [
          0,
          0.45
         ],
         "title": {
          "text": "Episode"
         }
        },
        "xaxis2": {
         "anchor": "y2",
         "domain": [
          0.55,
          1
         ],
         "title": {
          "text": "Episode"
         }
        },
        "yaxis": {
         "anchor": "x",
         "domain": [
          0,
          1
         ],
         "title": {
          "text": "Cumulative Reward"
         }
        },
        "yaxis2": {
         "anchor": "x2",
         "domain": [
          0,
          1
         ],
         "title": {
          "text": "Steps Taken"
         }
        }
       }
      }
     },
     "metadata": {},
     "output_type": "display_data"
    }
   ],
   "source": [
    "# Training the agent\n",
    "train_agent(agent, maze, num_episodes=100)"
   ]
  },
  {
   "cell_type": "markdown",
   "metadata": {},
   "source": [
    "## Final Trained Agent\n",
    "\n",
    "- As you will probably see, if everything went well, the agent should now traverse through the maze the right way (fewest steps and highest rewards) after running the code cells."
   ]
  },
  {
   "cell_type": "code",
   "execution_count": 25,
   "metadata": {},
   "outputs": [
    {
     "ename": "KeyboardInterrupt",
     "evalue": "",
     "output_type": "error",
     "traceback": [
      "\u001b[1;31m---------------------------------------------------------------------------\u001b[0m",
      "\u001b[1;31mKeyboardInterrupt\u001b[0m                         Traceback (most recent call last)",
      "Cell \u001b[1;32mIn[25], line 4\u001b[0m\n\u001b[0;32m      1\u001b[0m \u001b[38;5;66;03m# Testing the agent after training\u001b[39;00m\n\u001b[0;32m      3\u001b[0m agent \u001b[38;5;241m=\u001b[39m QLearningAgent(maze, learning_rate\u001b[38;5;241m=\u001b[39m\u001b[38;5;241m0.9\u001b[39m, discount_factor\u001b[38;5;241m=\u001b[39m\u001b[38;5;241m0.5\u001b[39m, exploration_start\u001b[38;5;241m=\u001b[39m\u001b[38;5;241m0.1\u001b[39m, )\n\u001b[1;32m----> 4\u001b[0m \u001b[43mtest_agent\u001b[49m\u001b[43m(\u001b[49m\u001b[43magent\u001b[49m\u001b[43m,\u001b[49m\u001b[43m \u001b[49m\u001b[43mmaze\u001b[49m\u001b[43m,\u001b[49m\u001b[43m \u001b[49m\u001b[43mnum_episodes\u001b[49m\u001b[38;5;241;43m=\u001b[39;49m\u001b[38;5;241;43m1\u001b[39;49m\u001b[43m)\u001b[49m\n",
      "Cell \u001b[1;32mIn[21], line 3\u001b[0m, in \u001b[0;36mtest_agent\u001b[1;34m(agent, maze, num_episodes)\u001b[0m\n\u001b[0;32m      2\u001b[0m \u001b[38;5;28;01mdef\u001b[39;00m \u001b[38;5;21mtest_agent\u001b[39m(agent, maze, num_episodes\u001b[38;5;241m=\u001b[39m\u001b[38;5;241m1\u001b[39m):\n\u001b[1;32m----> 3\u001b[0m     episode_reward, episode_step, path, sub_reached \u001b[38;5;241m=\u001b[39m \u001b[43mqlearning_logic\u001b[49m\u001b[43m(\u001b[49m\u001b[43magent\u001b[49m\u001b[43m,\u001b[49m\u001b[43m \u001b[49m\u001b[43mmaze\u001b[49m\u001b[43m,\u001b[49m\u001b[43m \u001b[49m\u001b[43mnum_episodes\u001b[49m\u001b[43m,\u001b[49m\u001b[43m \u001b[49m\u001b[43mtrain\u001b[49m\u001b[38;5;241;43m=\u001b[39;49m\u001b[38;5;28;43;01mFalse\u001b[39;49;00m\u001b[43m)\u001b[49m\n\u001b[0;32m      5\u001b[0m     \u001b[38;5;66;03m# Shows the path it took, total steps and total reward.\u001b[39;00m\n\u001b[0;32m      6\u001b[0m     \u001b[38;5;28mprint\u001b[39m(\u001b[38;5;124m\"\u001b[39m\u001b[38;5;124mFinal Path:\u001b[39m\u001b[38;5;124m\"\u001b[39m)\n",
      "Cell \u001b[1;32mIn[19], line 15\u001b[0m, in \u001b[0;36mqlearning_logic\u001b[1;34m(agent, maze, current_episode, train)\u001b[0m\n\u001b[0;32m     10\u001b[0m episode_step \u001b[38;5;241m=\u001b[39m \u001b[38;5;241m0\u001b[39m                        \u001b[38;5;66;03m# Tracks the agent's total steps at the end of the episode.\u001b[39;00m\n\u001b[0;32m     12\u001b[0m \u001b[38;5;28;01mwhile\u001b[39;00m \u001b[38;5;129;01mnot\u001b[39;00m goal_reached:\n\u001b[0;32m     13\u001b[0m \n\u001b[0;32m     14\u001b[0m     \u001b[38;5;66;03m# Decide the agent's next action based on the Q-Table.\u001b[39;00m\n\u001b[1;32m---> 15\u001b[0m     action \u001b[38;5;241m=\u001b[39m \u001b[43magent\u001b[49m\u001b[38;5;241;43m.\u001b[39;49m\u001b[43mget_action\u001b[49m\u001b[43m(\u001b[49m\u001b[43mcurrent_state\u001b[49m\u001b[43m,\u001b[49m\u001b[43m \u001b[49m\u001b[43mcurrent_episode\u001b[49m\u001b[43m)\u001b[49m\n\u001b[0;32m     16\u001b[0m     next_state \u001b[38;5;241m=\u001b[39m (current_state[\u001b[38;5;241m0\u001b[39m] \u001b[38;5;241m+\u001b[39m moves[action][\u001b[38;5;241m0\u001b[39m], current_state[\u001b[38;5;241m1\u001b[39m] \u001b[38;5;241m+\u001b[39m moves[action][\u001b[38;5;241m1\u001b[39m])\n\u001b[0;32m     18\u001b[0m     \u001b[38;5;66;03m# Give a penalty if a wall is hit.\u001b[39;00m\n",
      "Cell \u001b[1;32mIn[17], line 36\u001b[0m, in \u001b[0;36mQLearningAgent.get_action\u001b[1;34m(self, state, current_episode)\u001b[0m\n\u001b[0;32m     33\u001b[0m     \u001b[38;5;28;01mreturn\u001b[39;00m np\u001b[38;5;241m.\u001b[39mrandom\u001b[38;5;241m.\u001b[39mrandint(\u001b[38;5;241m4\u001b[39m) \n\u001b[0;32m     34\u001b[0m \u001b[38;5;28;01melse\u001b[39;00m:\n\u001b[0;32m     35\u001b[0m     \u001b[38;5;66;03m#Chooses the action with the highest Q-value for the given state.\u001b[39;00m\n\u001b[1;32m---> 36\u001b[0m     \u001b[38;5;28;01mreturn\u001b[39;00m \u001b[43mnp\u001b[49m\u001b[38;5;241;43m.\u001b[39;49m\u001b[43margmax\u001b[49m\u001b[43m(\u001b[49m\u001b[38;5;28;43mself\u001b[39;49m\u001b[38;5;241;43m.\u001b[39;49m\u001b[43mq_table\u001b[49m\u001b[43m[\u001b[49m\u001b[43mstate\u001b[49m\u001b[43m]\u001b[49m\u001b[43m)\u001b[49m\n",
      "File \u001b[1;32mc:\\Users\\camis\\anaconda3\\envs\\IntroRL\\lib\\site-packages\\numpy\\core\\fromnumeric.py:1229\u001b[0m, in \u001b[0;36margmax\u001b[1;34m(a, axis, out, keepdims)\u001b[0m\n\u001b[0;32m   1142\u001b[0m \u001b[38;5;250m\u001b[39m\u001b[38;5;124;03m\"\"\"\u001b[39;00m\n\u001b[0;32m   1143\u001b[0m \u001b[38;5;124;03mReturns the indices of the maximum values along an axis.\u001b[39;00m\n\u001b[0;32m   1144\u001b[0m \n\u001b[1;32m   (...)\u001b[0m\n\u001b[0;32m   1226\u001b[0m \u001b[38;5;124;03m(2, 1, 4)\u001b[39;00m\n\u001b[0;32m   1227\u001b[0m \u001b[38;5;124;03m\"\"\"\u001b[39;00m\n\u001b[0;32m   1228\u001b[0m kwds \u001b[38;5;241m=\u001b[39m {\u001b[38;5;124m'\u001b[39m\u001b[38;5;124mkeepdims\u001b[39m\u001b[38;5;124m'\u001b[39m: keepdims} \u001b[38;5;28;01mif\u001b[39;00m keepdims \u001b[38;5;129;01mis\u001b[39;00m \u001b[38;5;129;01mnot\u001b[39;00m np\u001b[38;5;241m.\u001b[39m_NoValue \u001b[38;5;28;01melse\u001b[39;00m {}\n\u001b[1;32m-> 1229\u001b[0m \u001b[38;5;28;01mreturn\u001b[39;00m _wrapfunc(a, \u001b[38;5;124m'\u001b[39m\u001b[38;5;124margmax\u001b[39m\u001b[38;5;124m'\u001b[39m, axis\u001b[38;5;241m=\u001b[39maxis, out\u001b[38;5;241m=\u001b[39mout, \u001b[38;5;241m*\u001b[39m\u001b[38;5;241m*\u001b[39mkwds)\n",
      "File \u001b[1;32mc:\\Users\\camis\\anaconda3\\envs\\IntroRL\\lib\\site-packages\\numpy\\core\\fromnumeric.py:59\u001b[0m, in \u001b[0;36m_wrapfunc\u001b[1;34m(obj, method, *args, **kwds)\u001b[0m\n\u001b[0;32m     56\u001b[0m     \u001b[38;5;28;01mreturn\u001b[39;00m _wrapit(obj, method, \u001b[38;5;241m*\u001b[39margs, \u001b[38;5;241m*\u001b[39m\u001b[38;5;241m*\u001b[39mkwds)\n\u001b[0;32m     58\u001b[0m \u001b[38;5;28;01mtry\u001b[39;00m:\n\u001b[1;32m---> 59\u001b[0m     \u001b[38;5;28;01mreturn\u001b[39;00m bound(\u001b[38;5;241m*\u001b[39margs, \u001b[38;5;241m*\u001b[39m\u001b[38;5;241m*\u001b[39mkwds)\n\u001b[0;32m     60\u001b[0m \u001b[38;5;28;01mexcept\u001b[39;00m \u001b[38;5;167;01mTypeError\u001b[39;00m:\n\u001b[0;32m     61\u001b[0m     \u001b[38;5;66;03m# A TypeError occurs if the object does have such a method in its\u001b[39;00m\n\u001b[0;32m     62\u001b[0m     \u001b[38;5;66;03m# class, but its signature is not identical to that of NumPy's. This\u001b[39;00m\n\u001b[1;32m   (...)\u001b[0m\n\u001b[0;32m     66\u001b[0m     \u001b[38;5;66;03m# Call _wrapit from within the except clause to ensure a potential\u001b[39;00m\n\u001b[0;32m     67\u001b[0m     \u001b[38;5;66;03m# exception has a traceback chain.\u001b[39;00m\n\u001b[0;32m     68\u001b[0m     \u001b[38;5;28;01mreturn\u001b[39;00m _wrapit(obj, method, \u001b[38;5;241m*\u001b[39margs, \u001b[38;5;241m*\u001b[39m\u001b[38;5;241m*\u001b[39mkwds)\n",
      "\u001b[1;31mKeyboardInterrupt\u001b[0m: "
     ]
    }
   ],
   "source": [
    "# Testing the agent after training\n",
    "test_agent(agent, maze, num_episodes=1)"
   ]
  },
  {
   "cell_type": "code",
   "execution_count": null,
   "metadata": {},
   "outputs": [],
   "source": [
    "# Test the agent and generate the heat map again\n",
    "test_agent_with_heatmap(agent, maze, num_episodes=15)"
   ]
  },
  {
   "cell_type": "markdown",
   "metadata": {},
   "source": [
    "### Animated showcase\n",
    "\n",
    "- Finally, a last animated version to see it go through the maze after it learned the best possible route."
   ]
  },
  {
   "cell_type": "code",
   "execution_count": 13,
   "metadata": {},
   "outputs": [],
   "source": [
    "def animated_test_agent(agent, maze, num_episodes=100):\n",
    "    last_episode_reward = 0\n",
    "    last_episode_steps = 0\n",
    "    last_episode_path = []\n",
    "\n",
    "    for episode in range(num_episodes):\n",
    "        episode_reward, episode_step, path, sub_reached = qlearning_logic(agent, maze, episode, train=False)\n",
    "        \n",
    "        # Capture the last episode's results\n",
    "        if episode == num_episodes - 1:\n",
    "            last_episode_reward = episode_reward\n",
    "            last_episode_steps = episode_step\n",
    "            last_episode_path = path\n",
    "\n",
    "    print(f\"Final reward from last episode: {last_episode_reward}\")\n",
    "    print(f\"Final steps from last episode: {last_episode_steps}\")\n",
    "\n",
    "    return last_episode_reward, last_episode_steps, last_episode_path\n"
   ]
  },
  {
   "cell_type": "code",
   "execution_count": null,
   "metadata": {},
   "outputs": [],
   "source": [
    "# Testing the agent after training and capturing the last episode's details\n",
    "last_reward, last_steps, last_path = animated_test_agent(agent, maze, num_episodes=100)\n",
    "\n",
    "# Animate only the last episode using the captured path\n",
    "def animate_last_episode(agent, maze, path):\n",
    "    fig, ax = plt.subplots(figsize=(5, 5))\n",
    "\n",
    "    # Plot the initial maze positions.\n",
    "    ax.imshow(maze.maze, cmap='Pastel1')\n",
    "    ax.text(maze.start_position[0], maze.start_position[1], 'S', ha='center', va='center', color='green', fontsize=15)\n",
    "    ax.text(maze.goal_position[0], maze.goal_position[1], 'E', ha='center', va='center', color='red', fontsize=15)\n",
    "    sub_goal_marker = ax.text(maze.sub_goal_position[0], maze.sub_goal_position[1], 'G', ha='center', va='center', color='blue', fontsize=15)\n",
    "\n",
    "    plt.grid(color='black', linestyle='-', linewidth=0.5)\n",
    "    plt.xticks(np.arange(0.5, maze.maze.shape[1], 1))\n",
    "    plt.yticks(np.arange(0.5, maze.maze.shape[0], 1))\n",
    "    plt.gca().set_xticks(np.arange(-0.5, maze.maze.shape[1], 1), minor=True)\n",
    "    plt.gca().set_yticks(np.arange(-0.5, maze.maze.shape[0], 1), minor=True)\n",
    "    plt.gca().grid(which='minor', color='grey', linestyle='-', linewidth=0.5)\n",
    "    plt.gca().tick_params(which='both', length=0)\n",
    "\n",
    "    plt.xlim(-0.45, maze.maze.shape[1] - 0.5)\n",
    "    plt.ylim(maze.maze.shape[0] - 0.6, -0.4)\n",
    "\n",
    "    # Initialize the agent's position and direction marker.\n",
    "    agent_marker, = ax.plot(maze.start_position[0], maze.start_position[1], \"o\", color='white', markersize=10)\n",
    "    path_markers = []\n",
    "\n",
    "    def update(frame):\n",
    "        if frame < len(path):\n",
    "            pos = path[frame]\n",
    "\n",
    "            # Update agent marker position\n",
    "            agent_marker.set_data(pos[0], pos[1])\n",
    "\n",
    "            # Change the \"G\" sub-goal marker from blue to black when reached.\n",
    "            if pos == maze.sub_goal_position:\n",
    "                sub_goal_marker.set_color('black')\n",
    "\n",
    "        # If it's the last frame (goal reached), plot the entire path.\n",
    "        if frame == len(path) - 1:\n",
    "            for (x, y) in path:\n",
    "                marker, = ax.plot(x, y, \".\", color='white', markersize=10)\n",
    "                path_markers.append(marker)\n",
    "\n",
    "        return agent_marker, sub_goal_marker, *path_markers\n",
    "\n",
    "    # Animate the last episode path\n",
    "    anim = FuncAnimation(fig, update, frames=len(path), interval=100, blit=True, repeat=False)\n",
    "\n",
    "    print(\"Last Episode Path:\")\n",
    "    for row, col in path:\n",
    "        print(f\"({row}, {col})-> \", end='')\n",
    "    print(\"End Reached\")\n",
    "\n",
    "    plt.xticks([]), plt.yticks([])\n",
    "    plt.grid(color='black', linewidth=2)\n",
    "\n",
    "    return anim\n",
    "\n",
    "# Animate the last episode\n",
    "anim_last_episode = animate_last_episode(agent, maze, last_path)\n",
    "\n",
    "# Convert the animation to HTML for inline display in the notebook.\n",
    "HTML(anim_last_episode.to_jshtml())\n"
   ]
  }
 ],
 "metadata": {
  "kernelspec": {
   "display_name": "IntroRL",
   "language": "python",
   "name": "python3"
  },
  "language_info": {
   "codemirror_mode": {
    "name": "ipython",
    "version": 3
   },
   "file_extension": ".py",
   "mimetype": "text/x-python",
   "name": "python",
   "nbconvert_exporter": "python",
   "pygments_lexer": "ipython3",
   "version": "3.10.15"
  }
 },
 "nbformat": 4,
 "nbformat_minor": 2
}
